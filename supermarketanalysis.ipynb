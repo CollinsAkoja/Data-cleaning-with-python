{
 "cells": [
  {
   "cell_type": "markdown",
   "id": "d1c99100",
   "metadata": {},
   "source": [
    "## Supermarket Financial Analysis\n",
    "## Author Collins Akoja\n",
    "## Date : 14th June, 2025"
   ]
  },
  {
   "cell_type": "code",
   "execution_count": 70,
   "id": "acee2a65",
   "metadata": {},
   "outputs": [],
   "source": [
    "## Modules\n",
    "import pandas as pd\n",
    "import numpy as np\n",
    "import plotly as plt\n",
    "import seaborn as sns\n",
    "import statsmodels.tsa.holtwinters\n",
    "##import SimpleExpSmoothing"
   ]
  },
  {
   "cell_type": "code",
   "execution_count": 85,
   "id": "877be812",
   "metadata": {},
   "outputs": [],
   "source": [
    "df = pd.read_csv(r\"c:\\Users\\RICHMAN\\Desktop\\DBMS\\DBM-HMEDIX\\HMEDIX_Transactions_With_Month.csv\")"
   ]
  },
  {
   "cell_type": "code",
   "execution_count": 86,
   "id": "7dba1450",
   "metadata": {},
   "outputs": [
    {
     "data": {
      "text/html": [
       "<div>\n",
       "<style scoped>\n",
       "    .dataframe tbody tr th:only-of-type {\n",
       "        vertical-align: middle;\n",
       "    }\n",
       "\n",
       "    .dataframe tbody tr th {\n",
       "        vertical-align: top;\n",
       "    }\n",
       "\n",
       "    .dataframe thead th {\n",
       "        text-align: right;\n",
       "    }\n",
       "</style>\n",
       "<table border=\"1\" class=\"dataframe\">\n",
       "  <thead>\n",
       "    <tr style=\"text-align: right;\">\n",
       "      <th></th>\n",
       "      <th>Date</th>\n",
       "      <th>Description</th>\n",
       "      <th>Type</th>\n",
       "      <th>Category</th>\n",
       "      <th>Amount</th>\n",
       "      <th>Balance</th>\n",
       "      <th>Notes</th>\n",
       "      <th>Month</th>\n",
       "    </tr>\n",
       "  </thead>\n",
       "  <tbody>\n",
       "    <tr>\n",
       "      <th>0</th>\n",
       "      <td>2025-01-01</td>\n",
       "      <td>POS Sales</td>\n",
       "      <td>Credit</td>\n",
       "      <td>Groceries</td>\n",
       "      <td>331932</td>\n",
       "      <td>5331932</td>\n",
       "      <td>Daily revenue</td>\n",
       "      <td>2025-01</td>\n",
       "    </tr>\n",
       "    <tr>\n",
       "      <th>1</th>\n",
       "      <td>2025-01-01</td>\n",
       "      <td>Payroll Expense</td>\n",
       "      <td>Debit</td>\n",
       "      <td>Payroll</td>\n",
       "      <td>227892</td>\n",
       "      <td>5104040</td>\n",
       "      <td>Payroll expense</td>\n",
       "      <td>2025-01</td>\n",
       "    </tr>\n",
       "    <tr>\n",
       "      <th>2</th>\n",
       "      <td>2025-01-02</td>\n",
       "      <td>POS Sales</td>\n",
       "      <td>Credit</td>\n",
       "      <td>Groceries</td>\n",
       "      <td>368266</td>\n",
       "      <td>5472306</td>\n",
       "      <td>Daily revenue</td>\n",
       "      <td>2025-01</td>\n",
       "    </tr>\n",
       "    <tr>\n",
       "      <th>3</th>\n",
       "      <td>2025-01-03</td>\n",
       "      <td>POS Sales</td>\n",
       "      <td>Credit</td>\n",
       "      <td>Groceries</td>\n",
       "      <td>391335</td>\n",
       "      <td>5863641</td>\n",
       "      <td>Daily revenue</td>\n",
       "      <td>2025-01</td>\n",
       "    </tr>\n",
       "    <tr>\n",
       "      <th>4</th>\n",
       "      <td>2025-01-04</td>\n",
       "      <td>POS Sales</td>\n",
       "      <td>Credit</td>\n",
       "      <td>Groceries</td>\n",
       "      <td>200769</td>\n",
       "      <td>6064410</td>\n",
       "      <td>Daily revenue</td>\n",
       "      <td>2025-01</td>\n",
       "    </tr>\n",
       "    <tr>\n",
       "      <th>...</th>\n",
       "      <td>...</td>\n",
       "      <td>...</td>\n",
       "      <td>...</td>\n",
       "      <td>...</td>\n",
       "      <td>...</td>\n",
       "      <td>...</td>\n",
       "      <td>...</td>\n",
       "      <td>...</td>\n",
       "    </tr>\n",
       "    <tr>\n",
       "      <th>191</th>\n",
       "      <td>2025-06-25</td>\n",
       "      <td>POS Sales</td>\n",
       "      <td>Credit</td>\n",
       "      <td>Groceries</td>\n",
       "      <td>329473</td>\n",
       "      <td>40359261</td>\n",
       "      <td>Daily revenue</td>\n",
       "      <td>2025-06</td>\n",
       "    </tr>\n",
       "    <tr>\n",
       "      <th>192</th>\n",
       "      <td>2025-06-25</td>\n",
       "      <td>Utilities Expense</td>\n",
       "      <td>Debit</td>\n",
       "      <td>Utilities</td>\n",
       "      <td>76570</td>\n",
       "      <td>40282691</td>\n",
       "      <td>Utilities expense</td>\n",
       "      <td>2025-06</td>\n",
       "    </tr>\n",
       "    <tr>\n",
       "      <th>193</th>\n",
       "      <td>2025-06-26</td>\n",
       "      <td>POS Sales</td>\n",
       "      <td>Credit</td>\n",
       "      <td>Groceries</td>\n",
       "      <td>201015</td>\n",
       "      <td>40483706</td>\n",
       "      <td>Daily revenue</td>\n",
       "      <td>2025-06</td>\n",
       "    </tr>\n",
       "    <tr>\n",
       "      <th>194</th>\n",
       "      <td>2025-06-28</td>\n",
       "      <td>POS Sales</td>\n",
       "      <td>Credit</td>\n",
       "      <td>Groceries</td>\n",
       "      <td>262292</td>\n",
       "      <td>40745998</td>\n",
       "      <td>Daily revenue</td>\n",
       "      <td>2025-06</td>\n",
       "    </tr>\n",
       "    <tr>\n",
       "      <th>195</th>\n",
       "      <td>2025-06-29</td>\n",
       "      <td>POS Sales</td>\n",
       "      <td>Credit</td>\n",
       "      <td>Groceries</td>\n",
       "      <td>206970</td>\n",
       "      <td>40952968</td>\n",
       "      <td>Daily revenue</td>\n",
       "      <td>2025-06</td>\n",
       "    </tr>\n",
       "  </tbody>\n",
       "</table>\n",
       "<p>196 rows × 8 columns</p>\n",
       "</div>"
      ],
      "text/plain": [
       "           Date        Description    Type   Category  Amount   Balance  \\\n",
       "0    2025-01-01          POS Sales  Credit  Groceries  331932   5331932   \n",
       "1    2025-01-01    Payroll Expense   Debit    Payroll  227892   5104040   \n",
       "2    2025-01-02          POS Sales  Credit  Groceries  368266   5472306   \n",
       "3    2025-01-03          POS Sales  Credit  Groceries  391335   5863641   \n",
       "4    2025-01-04          POS Sales  Credit  Groceries  200769   6064410   \n",
       "..          ...                ...     ...        ...     ...       ...   \n",
       "191  2025-06-25          POS Sales  Credit  Groceries  329473  40359261   \n",
       "192  2025-06-25  Utilities Expense   Debit  Utilities   76570  40282691   \n",
       "193  2025-06-26          POS Sales  Credit  Groceries  201015  40483706   \n",
       "194  2025-06-28          POS Sales  Credit  Groceries  262292  40745998   \n",
       "195  2025-06-29          POS Sales  Credit  Groceries  206970  40952968   \n",
       "\n",
       "                 Notes    Month  \n",
       "0        Daily revenue  2025-01  \n",
       "1      Payroll expense  2025-01  \n",
       "2        Daily revenue  2025-01  \n",
       "3        Daily revenue  2025-01  \n",
       "4        Daily revenue  2025-01  \n",
       "..                 ...      ...  \n",
       "191      Daily revenue  2025-06  \n",
       "192  Utilities expense  2025-06  \n",
       "193      Daily revenue  2025-06  \n",
       "194      Daily revenue  2025-06  \n",
       "195      Daily revenue  2025-06  \n",
       "\n",
       "[196 rows x 8 columns]"
      ]
     },
     "execution_count": 86,
     "metadata": {},
     "output_type": "execute_result"
    }
   ],
   "source": [
    "df"
   ]
  },
  {
   "cell_type": "code",
   "execution_count": 82,
   "id": "f8ad86c1",
   "metadata": {},
   "outputs": [
    {
     "data": {
      "text/plain": [
       "<bound method DataFrame.info of            Date        Description    Type   Category  Amount   Balance  \\\n",
       "0    2025-01-01          POS Sales  Credit  Groceries  331932   5331932   \n",
       "1    2025-01-01    Payroll Expense   Debit    Payroll  227892   5104040   \n",
       "2    2025-01-02          POS Sales  Credit  Groceries  368266   5472306   \n",
       "3    2025-01-03          POS Sales  Credit  Groceries  391335   5863641   \n",
       "4    2025-01-04          POS Sales  Credit  Groceries  200769   6064410   \n",
       "..          ...                ...     ...        ...     ...       ...   \n",
       "191  2025-06-25          POS Sales  Credit  Groceries  329473  40359261   \n",
       "192  2025-06-25  Utilities Expense   Debit  Utilities   76570  40282691   \n",
       "193  2025-06-26          POS Sales  Credit  Groceries  201015  40483706   \n",
       "194  2025-06-28          POS Sales  Credit  Groceries  262292  40745998   \n",
       "195  2025-06-29          POS Sales  Credit  Groceries  206970  40952968   \n",
       "\n",
       "                 Notes    Month  \n",
       "0        Daily revenue  2025-01  \n",
       "1      Payroll expense  2025-01  \n",
       "2        Daily revenue  2025-01  \n",
       "3        Daily revenue  2025-01  \n",
       "4        Daily revenue  2025-01  \n",
       "..                 ...      ...  \n",
       "191      Daily revenue  2025-06  \n",
       "192  Utilities expense  2025-06  \n",
       "193      Daily revenue  2025-06  \n",
       "194      Daily revenue  2025-06  \n",
       "195      Daily revenue  2025-06  \n",
       "\n",
       "[196 rows x 8 columns]>"
      ]
     },
     "execution_count": 82,
     "metadata": {},
     "output_type": "execute_result"
    }
   ],
   "source": [
    "df.info"
   ]
  },
  {
   "cell_type": "code",
   "execution_count": null,
   "id": "6b4eec61",
   "metadata": {},
   "outputs": [],
   "source": [
    "## converting date to datetime\n",
    "date_range = pd.date_range(start =\"2025-01-01\", end = \"2025-06-30\")\n",
    "\n",
    "## Convert the date to range in the dateframe\n",
    "df = pd.DataFrame({\"Date\": date_range})\n",
    "df\n",
    "df[\"Date\"] = pd.to_datetime(df[\"Date\"])\n",
    "df\n",
    "df[\"Date\"] = pd.to_datetime(df[\"Date\"], format =\"%dd/%mm/%yy\")\n",
    "df[\"month\"] = df[\"Date\"] .dt.to_period(\"M\")"
   ]
  },
  {
   "cell_type": "code",
   "execution_count": 89,
   "id": "e0474d19",
   "metadata": {},
   "outputs": [],
   "source": [
    "## KPI CALCULATIONS\n",
    "\n",
    "total_income = df[df[\"Type\"] == \"Credit\"][\"Amount\"].sum()\n",
    "total_expense = df[df[\"Type\"] == \"Debit\"][\"Amount\"].sum()\n",
    "net_profit = total_income - total_expense\n"
   ]
  },
  {
   "cell_type": "code",
   "execution_count": null,
   "id": "79d7c27b",
   "metadata": {},
   "outputs": [
    {
     "name": "stdout",
     "output_type": "stream",
     "text": [
      "Total Income: 42551817\n",
      "Total Expense: 6598849\n",
      "Net Profit:  35952968\n"
     ]
    }
   ],
   "source": [
    "print(\"Total Income:\", total_income)\n",
    "print(\"Total Expense:\", total_expense)\n",
    "print(\"Net Profit: \", total_income - total_expense)"
   ]
  },
  {
   "cell_type": "code",
   "execution_count": 87,
   "id": "94b5ed16",
   "metadata": {},
   "outputs": [],
   "source": [
    "monthly_sales = df[df[\"Type\"] == \"Credit\"].groupby(\"Month\")[\"Amount\"]\n",
    "top_expenses = df[df[\"Type\"] == \"Debit\"].groupby(\"Category\")[\"Amount\"]\n"
   ]
  },
  {
   "cell_type": "code",
   "execution_count": null,
   "id": "2dbe7735",
   "metadata": {},
   "outputs": [
    {
     "ename": "",
     "evalue": "",
     "output_type": "error",
     "traceback": [
      "\u001b[1;31mFailed to start the Kernel. \n",
      "\u001b[1;31mUnable to start Kernel 'Python 3.13.2' due to a timeout waiting for the ports to get used. \n",
      "\u001b[1;31mView Jupyter <a href='command:jupyter.viewOutput'>log</a> for further details."
     ]
    }
   ],
   "source": [
    "top_expenses.plot(kind =\"bar\", title =\"Top Exp Table\")\n",
    "plt.ylabel(\"Amount\")\n",
    "plt.show()"
   ]
  },
  {
   "cell_type": "code",
   "execution_count": null,
   "id": "30e20422",
   "metadata": {},
   "outputs": [],
   "source": [
    "from statsmodels.tsa.holtwinters import ExponentialSmoothing\n"
   ]
  },
  {
   "cell_type": "code",
   "execution_count": null,
   "id": "be0f695a",
   "metadata": {},
   "outputs": [
    {
     "ename": "NameError",
     "evalue": "name 'SimpleExpSmoothing' is not defined",
     "output_type": "error",
     "traceback": [
      "\u001b[31m---------------------------------------------------------------------------\u001b[39m",
      "\u001b[31mNameError\u001b[39m                                 Traceback (most recent call last)",
      "\u001b[36mCell\u001b[39m\u001b[36m \u001b[39m\u001b[32mIn[42]\u001b[39m\u001b[32m, line 1\u001b[39m\n\u001b[32m----> \u001b[39m\u001b[32m1\u001b[39m model = \u001b[43mSimpleExpSmoothing\u001b[49m(monthly_sales)\n\u001b[32m      2\u001b[39m model_fit = model.fit()\n",
      "\u001b[31mNameError\u001b[39m: name 'SimpleExpSmoothing' is not defined"
     ]
    }
   ],
   "source": [
    "model = SimpleExpSmoothing(monthly_sales)\n",
    "model_fit = model.fit()\n"
   ]
  },
  {
   "cell_type": "code",
   "execution_count": null,
   "id": "5c74bfaa",
   "metadata": {},
   "outputs": [],
   "source": []
  }
 ],
 "metadata": {
  "kernelspec": {
   "display_name": "Python 3",
   "language": "python",
   "name": "python3"
  },
  "language_info": {
   "codemirror_mode": {
    "name": "ipython",
    "version": 3
   },
   "file_extension": ".py",
   "mimetype": "text/x-python",
   "name": "python",
   "nbconvert_exporter": "python",
   "pygments_lexer": "ipython3",
   "version": "3.13.2"
  }
 },
 "nbformat": 4,
 "nbformat_minor": 5
}
