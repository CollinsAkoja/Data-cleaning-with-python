{
 "cells": [
  {
   "cell_type": "code",
   "execution_count": 1,
   "id": "36b88b0c",
   "metadata": {},
   "outputs": [],
   "source": [
    "import numpy as np \n",
    "import pandas as pd"
   ]
  },
  {
   "cell_type": "markdown",
   "id": "5b109e07",
   "metadata": {},
   "source": [
    "## How to read a File in Pandas"
   ]
  },
  {
   "cell_type": "code",
   "execution_count": 2,
   "id": "b79eda44",
   "metadata": {},
   "outputs": [],
   "source": [
    "df = pd.read_csv(r\"C:\\Users\\Neptune\\Documents\\Documents\\EARLYCODE\\Batches\\DS201241010Y\\Datasets\\sample_pivot.csv\")"
   ]
  },
  {
   "cell_type": "code",
   "execution_count": 9,
   "id": "f1425b28",
   "metadata": {},
   "outputs": [
    {
     "data": {
      "text/html": [
       "<div>\n",
       "<style scoped>\n",
       "    .dataframe tbody tr th:only-of-type {\n",
       "        vertical-align: middle;\n",
       "    }\n",
       "\n",
       "    .dataframe tbody tr th {\n",
       "        vertical-align: top;\n",
       "    }\n",
       "\n",
       "    .dataframe thead th {\n",
       "        text-align: right;\n",
       "    }\n",
       "</style>\n",
       "<table border=\"1\" class=\"dataframe\">\n",
       "  <thead>\n",
       "    <tr style=\"text-align: right;\">\n",
       "      <th></th>\n",
       "      <th>Date</th>\n",
       "      <th>Region</th>\n",
       "      <th>Type</th>\n",
       "      <th>Units</th>\n",
       "      <th>Sales</th>\n",
       "    </tr>\n",
       "  </thead>\n",
       "  <tbody>\n",
       "    <tr>\n",
       "      <th>0</th>\n",
       "      <td>7/11/2020</td>\n",
       "      <td>East</td>\n",
       "      <td>Children's Clothing</td>\n",
       "      <td>18.0</td>\n",
       "      <td>306</td>\n",
       "    </tr>\n",
       "    <tr>\n",
       "      <th>1</th>\n",
       "      <td>9/23/2020</td>\n",
       "      <td>North</td>\n",
       "      <td>Children's Clothing</td>\n",
       "      <td>14.0</td>\n",
       "      <td>448</td>\n",
       "    </tr>\n",
       "    <tr>\n",
       "      <th>2</th>\n",
       "      <td>4/2/2020</td>\n",
       "      <td>South</td>\n",
       "      <td>Women's Clothing</td>\n",
       "      <td>17.0</td>\n",
       "      <td>425</td>\n",
       "    </tr>\n",
       "    <tr>\n",
       "      <th>3</th>\n",
       "      <td>2/28/2020</td>\n",
       "      <td>East</td>\n",
       "      <td>Children's Clothing</td>\n",
       "      <td>26.0</td>\n",
       "      <td>832</td>\n",
       "    </tr>\n",
       "    <tr>\n",
       "      <th>4</th>\n",
       "      <td>3/19/2020</td>\n",
       "      <td>West</td>\n",
       "      <td>Women's Clothing</td>\n",
       "      <td>3.0</td>\n",
       "      <td>33</td>\n",
       "    </tr>\n",
       "    <tr>\n",
       "      <th>...</th>\n",
       "      <td>...</td>\n",
       "      <td>...</td>\n",
       "      <td>...</td>\n",
       "      <td>...</td>\n",
       "      <td>...</td>\n",
       "    </tr>\n",
       "    <tr>\n",
       "      <th>995</th>\n",
       "      <td>2/11/2020</td>\n",
       "      <td>East</td>\n",
       "      <td>Children's Clothing</td>\n",
       "      <td>35.0</td>\n",
       "      <td>735</td>\n",
       "    </tr>\n",
       "    <tr>\n",
       "      <th>996</th>\n",
       "      <td>12/25/2020</td>\n",
       "      <td>North</td>\n",
       "      <td>Men's Clothing</td>\n",
       "      <td>NaN</td>\n",
       "      <td>1155</td>\n",
       "    </tr>\n",
       "    <tr>\n",
       "      <th>997</th>\n",
       "      <td>8/31/2020</td>\n",
       "      <td>South</td>\n",
       "      <td>Men's Clothing</td>\n",
       "      <td>13.0</td>\n",
       "      <td>208</td>\n",
       "    </tr>\n",
       "    <tr>\n",
       "      <th>998</th>\n",
       "      <td>8/23/2020</td>\n",
       "      <td>South</td>\n",
       "      <td>Women's Clothing</td>\n",
       "      <td>17.0</td>\n",
       "      <td>493</td>\n",
       "    </tr>\n",
       "    <tr>\n",
       "      <th>999</th>\n",
       "      <td>8/17/2020</td>\n",
       "      <td>North</td>\n",
       "      <td>Women's Clothing</td>\n",
       "      <td>25.0</td>\n",
       "      <td>300</td>\n",
       "    </tr>\n",
       "  </tbody>\n",
       "</table>\n",
       "<p>1000 rows × 5 columns</p>\n",
       "</div>"
      ],
      "text/plain": [
       "           Date Region                 Type  Units  Sales\n",
       "0     7/11/2020   East  Children's Clothing   18.0    306\n",
       "1     9/23/2020  North  Children's Clothing   14.0    448\n",
       "2      4/2/2020  South     Women's Clothing   17.0    425\n",
       "3     2/28/2020   East  Children's Clothing   26.0    832\n",
       "4     3/19/2020   West     Women's Clothing    3.0     33\n",
       "..          ...    ...                  ...    ...    ...\n",
       "995   2/11/2020   East  Children's Clothing   35.0    735\n",
       "996  12/25/2020  North       Men's Clothing    NaN   1155\n",
       "997   8/31/2020  South       Men's Clothing   13.0    208\n",
       "998   8/23/2020  South     Women's Clothing   17.0    493\n",
       "999   8/17/2020  North     Women's Clothing   25.0    300\n",
       "\n",
       "[1000 rows x 5 columns]"
      ]
     },
     "execution_count": 9,
     "metadata": {},
     "output_type": "execute_result"
    }
   ],
   "source": [
    "df"
   ]
  },
  {
   "cell_type": "code",
   "execution_count": null,
   "id": "329b0779",
   "metadata": {},
   "outputs": [],
   "source": [
    "## To get the first five information for a table \n",
    "df.head()"
   ]
  },
  {
   "cell_type": "code",
   "execution_count": null,
   "id": "460536b4",
   "metadata": {},
   "outputs": [],
   "source": [
    "## To get the last five informations for a table \n",
    "df.tail()"
   ]
  },
  {
   "cell_type": "code",
   "execution_count": null,
   "id": "f83778b0",
   "metadata": {},
   "outputs": [],
   "source": [
    "df.describe()"
   ]
  },
  {
   "cell_type": "code",
   "execution_count": null,
   "id": "a6851f2d",
   "metadata": {},
   "outputs": [],
   "source": [
    "df.shape"
   ]
  },
  {
   "cell_type": "markdown",
   "id": "37c9ec3c",
   "metadata": {},
   "source": [
    "## DATA WRANGLING"
   ]
  },
  {
   "cell_type": "code",
   "execution_count": 11,
   "id": "291047ba",
   "metadata": {},
   "outputs": [],
   "source": [
    "## Data wrangling is the act pf checking missing dataset and cleaning them "
   ]
  },
  {
   "cell_type": "code",
   "execution_count": null,
   "id": "3793e27e",
   "metadata": {},
   "outputs": [],
   "source": [
    "df.info()"
   ]
  },
  {
   "cell_type": "code",
   "execution_count": 13,
   "id": "ad6dd6ba",
   "metadata": {},
   "outputs": [],
   "source": [
    "## Convertiung the Date column to the right datatype \n",
    "df[\"Date\"] = pd.to_datetime(df[\"Date\"])"
   ]
  },
  {
   "cell_type": "code",
   "execution_count": null,
   "id": "e22214b7",
   "metadata": {},
   "outputs": [],
   "source": [
    "df.info()"
   ]
  },
  {
   "cell_type": "code",
   "execution_count": null,
   "id": "a24395a0",
   "metadata": {},
   "outputs": [],
   "source": [
    "## To check for missing values in a DataFrame \n",
    "df.isnull().sum()"
   ]
  },
  {
   "cell_type": "code",
   "execution_count": 18,
   "id": "a04fbce1",
   "metadata": {},
   "outputs": [
    {
     "data": {
      "text/html": [
       "<div>\n",
       "<style scoped>\n",
       "    .dataframe tbody tr th:only-of-type {\n",
       "        vertical-align: middle;\n",
       "    }\n",
       "\n",
       "    .dataframe tbody tr th {\n",
       "        vertical-align: top;\n",
       "    }\n",
       "\n",
       "    .dataframe thead th {\n",
       "        text-align: right;\n",
       "    }\n",
       "</style>\n",
       "<table border=\"1\" class=\"dataframe\">\n",
       "  <thead>\n",
       "    <tr style=\"text-align: right;\">\n",
       "      <th></th>\n",
       "      <th>Date</th>\n",
       "      <th>Region</th>\n",
       "      <th>Type</th>\n",
       "      <th>Units</th>\n",
       "      <th>Sales</th>\n",
       "    </tr>\n",
       "  </thead>\n",
       "  <tbody>\n",
       "    <tr>\n",
       "      <th>0</th>\n",
       "      <td>2020-07-11</td>\n",
       "      <td>East</td>\n",
       "      <td>Children's Clothing</td>\n",
       "      <td>18.0</td>\n",
       "      <td>306</td>\n",
       "    </tr>\n",
       "    <tr>\n",
       "      <th>1</th>\n",
       "      <td>2020-09-23</td>\n",
       "      <td>North</td>\n",
       "      <td>Children's Clothing</td>\n",
       "      <td>14.0</td>\n",
       "      <td>448</td>\n",
       "    </tr>\n",
       "    <tr>\n",
       "      <th>2</th>\n",
       "      <td>2020-04-02</td>\n",
       "      <td>South</td>\n",
       "      <td>Women's Clothing</td>\n",
       "      <td>17.0</td>\n",
       "      <td>425</td>\n",
       "    </tr>\n",
       "    <tr>\n",
       "      <th>3</th>\n",
       "      <td>2020-02-28</td>\n",
       "      <td>East</td>\n",
       "      <td>Children's Clothing</td>\n",
       "      <td>26.0</td>\n",
       "      <td>832</td>\n",
       "    </tr>\n",
       "    <tr>\n",
       "      <th>4</th>\n",
       "      <td>2020-03-19</td>\n",
       "      <td>West</td>\n",
       "      <td>Women's Clothing</td>\n",
       "      <td>3.0</td>\n",
       "      <td>33</td>\n",
       "    </tr>\n",
       "    <tr>\n",
       "      <th>5</th>\n",
       "      <td>2020-02-05</td>\n",
       "      <td>North</td>\n",
       "      <td>Women's Clothing</td>\n",
       "      <td>33.0</td>\n",
       "      <td>627</td>\n",
       "    </tr>\n",
       "    <tr>\n",
       "      <th>6</th>\n",
       "      <td>2020-01-24</td>\n",
       "      <td>South</td>\n",
       "      <td>Women's Clothing</td>\n",
       "      <td>12.0</td>\n",
       "      <td>396</td>\n",
       "    </tr>\n",
       "    <tr>\n",
       "      <th>7</th>\n",
       "      <td>2020-03-25</td>\n",
       "      <td>East</td>\n",
       "      <td>Women's Clothing</td>\n",
       "      <td>29.0</td>\n",
       "      <td>609</td>\n",
       "    </tr>\n",
       "    <tr>\n",
       "      <th>8</th>\n",
       "      <td>2020-01-03</td>\n",
       "      <td>North</td>\n",
       "      <td>Children's Clothing</td>\n",
       "      <td>18.0</td>\n",
       "      <td>486</td>\n",
       "    </tr>\n",
       "    <tr>\n",
       "      <th>9</th>\n",
       "      <td>2020-11-03</td>\n",
       "      <td>East</td>\n",
       "      <td>Children's Clothing</td>\n",
       "      <td>34.0</td>\n",
       "      <td>374</td>\n",
       "    </tr>\n",
       "    <tr>\n",
       "      <th>10</th>\n",
       "      <td>2020-04-16</td>\n",
       "      <td>South</td>\n",
       "      <td>Women's Clothing</td>\n",
       "      <td>16.0</td>\n",
       "      <td>352</td>\n",
       "    </tr>\n",
       "    <tr>\n",
       "      <th>11</th>\n",
       "      <td>2020-08-09</td>\n",
       "      <td>North</td>\n",
       "      <td>Men's Clothing</td>\n",
       "      <td>NaN</td>\n",
       "      <td>270</td>\n",
       "    </tr>\n",
       "    <tr>\n",
       "      <th>12</th>\n",
       "      <td>2020-05-01</td>\n",
       "      <td>East</td>\n",
       "      <td>Men's Clothing</td>\n",
       "      <td>10.0</td>\n",
       "      <td>140</td>\n",
       "    </tr>\n",
       "    <tr>\n",
       "      <th>13</th>\n",
       "      <td>2020-08-11</td>\n",
       "      <td>East</td>\n",
       "      <td>Children's Clothing</td>\n",
       "      <td>12.0</td>\n",
       "      <td>348</td>\n",
       "    </tr>\n",
       "    <tr>\n",
       "      <th>14</th>\n",
       "      <td>2020-01-07</td>\n",
       "      <td>East</td>\n",
       "      <td>Men's Clothing</td>\n",
       "      <td>30.0</td>\n",
       "      <td>360</td>\n",
       "    </tr>\n",
       "  </tbody>\n",
       "</table>\n",
       "</div>"
      ],
      "text/plain": [
       "         Date Region                 Type  Units  Sales\n",
       "0  2020-07-11   East  Children's Clothing   18.0    306\n",
       "1  2020-09-23  North  Children's Clothing   14.0    448\n",
       "2  2020-04-02  South     Women's Clothing   17.0    425\n",
       "3  2020-02-28   East  Children's Clothing   26.0    832\n",
       "4  2020-03-19   West     Women's Clothing    3.0     33\n",
       "5  2020-02-05  North     Women's Clothing   33.0    627\n",
       "6  2020-01-24  South     Women's Clothing   12.0    396\n",
       "7  2020-03-25   East     Women's Clothing   29.0    609\n",
       "8  2020-01-03  North  Children's Clothing   18.0    486\n",
       "9  2020-11-03   East  Children's Clothing   34.0    374\n",
       "10 2020-04-16  South     Women's Clothing   16.0    352\n",
       "11 2020-08-09  North       Men's Clothing    NaN    270\n",
       "12 2020-05-01   East       Men's Clothing   10.0    140\n",
       "13 2020-08-11   East  Children's Clothing   12.0    348\n",
       "14 2020-01-07   East       Men's Clothing   30.0    360"
      ]
     },
     "execution_count": 18,
     "metadata": {},
     "output_type": "execute_result"
    }
   ],
   "source": [
    "df.head(15)"
   ]
  },
  {
   "cell_type": "code",
   "execution_count": 16,
   "id": "878e0f2d",
   "metadata": {},
   "outputs": [],
   "source": [
    "## Forward Fill \n",
    "df1 = df.copy()\n",
    "df1.ffill(inplace = True)"
   ]
  },
  {
   "cell_type": "code",
   "execution_count": null,
   "id": "93a76dee",
   "metadata": {},
   "outputs": [],
   "source": [
    "df1.head(15)"
   ]
  },
  {
   "cell_type": "code",
   "execution_count": null,
   "id": "65e7667c",
   "metadata": {},
   "outputs": [],
   "source": [
    "df1.isnull().sum()"
   ]
  },
  {
   "cell_type": "code",
   "execution_count": 21,
   "id": "1dd8dee9",
   "metadata": {},
   "outputs": [],
   "source": [
    "## Backward Fill\n",
    "df2 = df.copy()\n",
    "df2.bfill(inplace = True )"
   ]
  },
  {
   "cell_type": "code",
   "execution_count": null,
   "id": "f8255467",
   "metadata": {},
   "outputs": [],
   "source": [
    "df2.isnull().sum()"
   ]
  },
  {
   "cell_type": "code",
   "execution_count": null,
   "id": "dbd0e225",
   "metadata": {},
   "outputs": [],
   "source": [
    "df2.head(15)"
   ]
  },
  {
   "cell_type": "code",
   "execution_count": 25,
   "id": "cf7879e8",
   "metadata": {},
   "outputs": [],
   "source": [
    "## Dropping missing values \n",
    "df.dropna(inplace = True)"
   ]
  },
  {
   "cell_type": "code",
   "execution_count": null,
   "id": "d4a6c99e",
   "metadata": {},
   "outputs": [],
   "source": [
    "df.isnull().sum()"
   ]
  },
  {
   "cell_type": "code",
   "execution_count": 28,
   "id": "0ba01f9f",
   "metadata": {},
   "outputs": [],
   "source": [
    "## Using the mean \n",
    "df3 = df.copy()\n",
    "df3.fillna(np.mean(df3[\"Units\"]), inplace = True )"
   ]
  },
  {
   "cell_type": "code",
   "execution_count": null,
   "id": "5a3b42a7",
   "metadata": {},
   "outputs": [],
   "source": [
    "df3.isnull().sum()"
   ]
  },
  {
   "cell_type": "markdown",
   "id": "db306469",
   "metadata": {},
   "source": [
    "## Pivot Table "
   ]
  },
  {
   "cell_type": "code",
   "execution_count": null,
   "id": "e64561c0",
   "metadata": {},
   "outputs": [],
   "source": [
    "## pivot table are powerful data analysis tools used to summarize and analyze large datasets \n",
    "df_pv = pd.pivot_table( df1, index = \"Region\", columns =\"Type\", values =\"Units\", aggfunc = \"count\")\n",
    "df_pv"
   ]
  },
  {
   "cell_type": "code",
   "execution_count": null,
   "id": "31f1864c",
   "metadata": {},
   "outputs": [],
   "source": [
    "## Grouping \n",
    "df4 = df1.groupby(\"Region\").mean([\"Units\"])\n",
    "df4"
   ]
  },
  {
   "cell_type": "code",
   "execution_count": null,
   "id": "7835f7ec",
   "metadata": {},
   "outputs": [],
   "source": [
    "df5 = df1.groupby([\"Region\", \"Type\"]).mean([\"Units\", \"Sales\"])\n",
    "df5"
   ]
  },
  {
   "cell_type": "code",
   "execution_count": 42,
   "id": "841b250f",
   "metadata": {},
   "outputs": [],
   "source": [
    " west =df1[df1[\"Region\"] == \"West\"]\n",
    " east = df1[df1[\"Region\"] == \"East\"]\n",
    " north= df1[df1[\"Region\"] == \"North\"]\n",
    " south = df1[df1[\"Region\"] == \"South\"]"
   ]
  },
  {
   "cell_type": "markdown",
   "id": "9f4a3df5",
   "metadata": {},
   "source": [
    "\n",
    "## Concatenation"
   ]
  },
  {
   "cell_type": "code",
   "execution_count": null,
   "id": "24b4c3e8",
   "metadata": {},
   "outputs": [],
   "source": [
    "df_region = pd.concat([west, east, north, south])\n",
    "df_region"
   ]
  },
  {
   "cell_type": "markdown",
   "id": "71c20f99",
   "metadata": {},
   "source": [
    "## Saving a DataFrame"
   ]
  },
  {
   "cell_type": "code",
   "execution_count": 45,
   "id": "a11106a6",
   "metadata": {},
   "outputs": [],
   "source": [
    "## CSV\n",
    "west.to_csv(\"West Region.csv\", index = False)"
   ]
  },
  {
   "cell_type": "code",
   "execution_count": null,
   "id": "bbd518b6",
   "metadata": {},
   "outputs": [],
   "source": [
    "## Excel\n",
    "east.to_excel(\"East Region.xlsx\", index = False)"
   ]
  },
  {
   "cell_type": "code",
   "execution_count": null,
   "id": "c738fa13",
   "metadata": {},
   "outputs": [],
   "source": [
    "\"\"\"\n",
    "Assignment \n",
    "create a DataFrame to perform following the merger, stack, melt and crosstab\n",
    "requests, excelwriter\n",
    "\"\"\""
   ]
  }
 ],
 "metadata": {
  "kernelspec": {
   "display_name": "base",
   "language": "python",
   "name": "python3"
  },
  "language_info": {
   "codemirror_mode": {
    "name": "ipython",
    "version": 3
   },
   "file_extension": ".py",
   "mimetype": "text/x-python",
   "name": "python",
   "nbconvert_exporter": "python",
   "pygments_lexer": "ipython3",
   "version": "3.12.7"
  }
 },
 "nbformat": 4,
 "nbformat_minor": 5
}
