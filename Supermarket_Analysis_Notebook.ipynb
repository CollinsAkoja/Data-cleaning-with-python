
{
 "cells": [
  {
   "cell_type": "markdown",
   "metadata": {},
   "source": [
    "# Supermarket Grocery Account Analysis: Jan - Jun 2025"
   ]
  },
  {
   "cell_type": "code",
   "execution_count": null,
   "metadata": {},
   "outputs": [],
   "source": [
    "import pandas as pd\n",
    "import matplotlib.pyplot as plt\n",
    "import seaborn as sns\n",
    "from statsmodels.tsa.holtwinters import SimpleExpSmoothing"
   ]
  },
  {
   "cell_type": "code",
   "execution_count": null,
   "metadata": {},
   "outputs": [],
   "source": [
    "# Load Data\n",
    "file_path = 'HMEDIX_Groceries_Account_Statement_Jan-Jun_2025 CPY.csv'\n",
    "df = pd.read_csv(file_path)\n",
    "df['Date'] = pd.to_datetime(df['Date'], format='%m/%d/%Y')\n",
    "df['Month'] = df['Date'].dt.to_period('M')"
   ]
  },
  {
   "cell_type": "code",
   "execution_count": null,
   "metadata": {},
   "outputs": [],
   "source": [
    "# KPI Calculations\n",
    "total_income = df[df['Type'] == 'Credit']['Amount'].sum()\n",
    "total_expense = df[df['Type'] == 'Debit']['Amount'].sum()\n",
    "net_profit = total_income - total_expense\n",
    "\n",
    "monthly_sales = df[df['Type'] == 'Credit'].groupby('Month')['Amount'].sum()\n",
    "top_expenses = df[df['Type'] == 'Debit'].groupby('Category')['Amount'].sum().sort_values(ascending=False)"
   ]
  },
  {
   "cell_type": "code",
   "execution_count": null,
   "metadata": {},
   "outputs": [],
   "source": [
    "# Visualizations\n",
    "monthly_sales.plot(kind='bar', title='Monthly Sales (Credit)', figsize=(10,5))\n",
    "plt.ylabel('Amount')\n",
    "plt.show()\n",
    "\n",
    "top_expenses.plot(kind='bar', title='Top Expense Categories', figsize=(8,5))\n",
    "plt.ylabel('Total Spent')\n",
    "plt.show()"
   ]
  },
  {
   "cell_type": "code",
   "execution_count": null,
   "metadata": {},
   "outputs": [],
   "source": [
    "# Forecasting\n",
    "sales_ts = monthly_sales\n",
    "model = SimpleExpSmoothing(sales_ts)\n",
    "model_fit = model.fit()\n",
    "forecast = model_fit.forecast(3)\n",
    "print("3-Month Forecast:\n", forecast)"
   ]
  },
  {
   "cell_type": "code",
   "execution_count": null,
   "metadata": {},
   "outputs": [],
   "source": [
    "# Export\n",
    "summary = pd.DataFrame({\n",
    "    'Total Income': [total_income],\n",
    "    'Total Expense': [total_expense],\n",
    "    'Net Profit': [net_profit]\n",
    "})\n",
    "summary.to_csv('KPI_Summary.csv')\n",
    "monthly_sales.to_csv('Monthly_Sales.csv')\n",
    "top_expenses.to_csv('Top_Expenses.csv')\n",
    "forecast.to_csv('Sales_Forecast.csv')"
   ]
  }
 ],
 "metadata": {
  "kernelspec": {
   "display_name": "Python 3",
   "language": "python",
   "name": "python3"
  },
  "language_info": {
   "name": "python",
   "version": "3.9"
  }
 },
 "nbformat": 4,
 "nbformat_minor": 4
}
